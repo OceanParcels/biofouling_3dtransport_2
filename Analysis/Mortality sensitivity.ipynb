{
 "cells": [
  {
   "cell_type": "markdown",
   "metadata": {},
   "source": [
    "## Exploring the algal mortality"
   ]
  },
  {
   "cell_type": "code",
   "execution_count": 1,
   "metadata": {},
   "outputs": [],
   "source": [
    "import numpy as np\n",
    "import xarray as xr\n",
    "import matplotlib.pyplot as plt\n",
    "from matplotlib.lines import Line2D\n",
    "import matplotlib.colors as colors\n",
    "from copy import copy"
   ]
  },
  {
   "cell_type": "code",
   "execution_count": 2,
   "metadata": {},
   "outputs": [],
   "source": [
    "datadir = '/scratch/rfischer/Kooi_data/data_output/'"
   ]
  },
  {
   "cell_type": "code",
   "execution_count": 3,
   "metadata": {},
   "outputs": [],
   "source": [
    "region = 'SO'\n",
    "mortality = [0.16, 0.39, 0.5]\n",
    "runtime = 20                  # [days]\n",
    "dt = 60                       # [seconds]\n",
    "outputdt = 12                 # [hours]\n",
    "mixing = 'no'"
   ]
  },
  {
   "cell_type": "code",
   "execution_count": 4,
   "metadata": {},
   "outputs": [],
   "source": [
    "ds_0 = xr.open_dataset(datadir+'regional_'+region+'_bfadv_Jan_2004_0'+str(mortality[0])[2:]+'mort_'+mixing+'mixing_'+str(runtime)+'days_'+str(dt)+'dtsecs_'+str(outputdt)+'hrsoutdt.nc')\n",
    "ds_1 = xr.open_dataset(datadir+'regional_'+region+'_bfadv_Jan_2004_0'+str(mortality[1])[2:]+'mort_'+mixing+'mixing_'+str(runtime)+'days_'+str(dt)+'dtsecs_'+str(outputdt)+'hrsoutdt.nc')\n",
    "ds_2 = xr.open_dataset(datadir+'regional_'+region+'_bfadv_Jan_2004_0'+str(mortality[2])[2:]+'mort_'+mixing+'mixing_'+str(runtime)+'days_'+str(dt)+'dtsecs_'+str(outputdt)+'hrsoutdt.nc')"
   ]
  },
  {
   "cell_type": "code",
   "execution_count": 5,
   "metadata": {},
   "outputs": [],
   "source": [
    "dslist = [ds_0, ds_1, ds_2]"
   ]
  },
  {
   "cell_type": "code",
   "execution_count": 6,
   "metadata": {},
   "outputs": [
    {
     "ename": "KeyboardInterrupt",
     "evalue": "",
     "output_type": "error",
     "traceback": [
      "\u001b[0;31m---------------------------------------------------------------------------\u001b[0m",
      "\u001b[0;31mKeyboardInterrupt\u001b[0m                         Traceback (most recent call last)",
      "\u001b[0;32m<ipython-input-6-860a64cba562>\u001b[0m in \u001b[0;36m<module>\u001b[0;34m\u001b[0m\n\u001b[0;32m----> 1\u001b[0;31m \u001b[0msplit_ds_0\u001b[0m \u001b[0;34m=\u001b[0m \u001b[0mlist\u001b[0m\u001b[0;34m(\u001b[0m\u001b[0mds_0\u001b[0m\u001b[0;34m.\u001b[0m\u001b[0mgroupby\u001b[0m\u001b[0;34m(\u001b[0m\u001b[0;34m'r_pl'\u001b[0m\u001b[0;34m)\u001b[0m\u001b[0;34m)\u001b[0m\u001b[0;34m\u001b[0m\u001b[0;34m\u001b[0m\u001b[0m\n\u001b[0m\u001b[1;32m      2\u001b[0m \u001b[0msplit_ds_1\u001b[0m \u001b[0;34m=\u001b[0m \u001b[0mlist\u001b[0m\u001b[0;34m(\u001b[0m\u001b[0mds_1\u001b[0m\u001b[0;34m.\u001b[0m\u001b[0mgroupby\u001b[0m\u001b[0;34m(\u001b[0m\u001b[0;34m'r_pl'\u001b[0m\u001b[0;34m)\u001b[0m\u001b[0;34m)\u001b[0m\u001b[0;34m\u001b[0m\u001b[0;34m\u001b[0m\u001b[0m\n\u001b[1;32m      3\u001b[0m \u001b[0msplit_ds_2\u001b[0m \u001b[0;34m=\u001b[0m \u001b[0mlist\u001b[0m\u001b[0;34m(\u001b[0m\u001b[0mds_2\u001b[0m\u001b[0;34m.\u001b[0m\u001b[0mgroupby\u001b[0m\u001b[0;34m(\u001b[0m\u001b[0;34m'r_pl'\u001b[0m\u001b[0;34m)\u001b[0m\u001b[0;34m)\u001b[0m\u001b[0;34m\u001b[0m\u001b[0;34m\u001b[0m\u001b[0m\n",
      "\u001b[0;32m~/.conda/envs/py3_parcels/lib/python3.6/site-packages/xarray/core/groupby.py\u001b[0m in \u001b[0;36m_iter_grouped\u001b[0;34m(self)\u001b[0m\n\u001b[1;32m    452\u001b[0m         \u001b[0;34m\"\"\"Iterate over each element in this group\"\"\"\u001b[0m\u001b[0;34m\u001b[0m\u001b[0;34m\u001b[0m\u001b[0m\n\u001b[1;32m    453\u001b[0m         \u001b[0;32mfor\u001b[0m \u001b[0mindices\u001b[0m \u001b[0;32min\u001b[0m \u001b[0mself\u001b[0m\u001b[0;34m.\u001b[0m\u001b[0m_group_indices\u001b[0m\u001b[0;34m:\u001b[0m\u001b[0;34m\u001b[0m\u001b[0;34m\u001b[0m\u001b[0m\n\u001b[0;32m--> 454\u001b[0;31m             \u001b[0;32myield\u001b[0m \u001b[0mself\u001b[0m\u001b[0;34m.\u001b[0m\u001b[0m_obj\u001b[0m\u001b[0;34m.\u001b[0m\u001b[0misel\u001b[0m\u001b[0;34m(\u001b[0m\u001b[0;34m**\u001b[0m\u001b[0;34m{\u001b[0m\u001b[0mself\u001b[0m\u001b[0;34m.\u001b[0m\u001b[0m_group_dim\u001b[0m\u001b[0;34m:\u001b[0m \u001b[0mindices\u001b[0m\u001b[0;34m}\u001b[0m\u001b[0;34m)\u001b[0m\u001b[0;34m\u001b[0m\u001b[0;34m\u001b[0m\u001b[0m\n\u001b[0m\u001b[1;32m    455\u001b[0m \u001b[0;34m\u001b[0m\u001b[0m\n\u001b[1;32m    456\u001b[0m     \u001b[0;32mdef\u001b[0m \u001b[0m_infer_concat_args\u001b[0m\u001b[0;34m(\u001b[0m\u001b[0mself\u001b[0m\u001b[0;34m,\u001b[0m \u001b[0mapplied_example\u001b[0m\u001b[0;34m)\u001b[0m\u001b[0;34m:\u001b[0m\u001b[0;34m\u001b[0m\u001b[0;34m\u001b[0m\u001b[0m\n",
      "\u001b[0;32m~/.conda/envs/py3_parcels/lib/python3.6/site-packages/xarray/core/dataset.py\u001b[0m in \u001b[0;36misel\u001b[0;34m(self, indexers, drop, missing_dims, **indexers_kwargs)\u001b[0m\n\u001b[1;32m   1967\u001b[0m             \u001b[0mvar_indexers\u001b[0m \u001b[0;34m=\u001b[0m \u001b[0;34m{\u001b[0m\u001b[0mk\u001b[0m\u001b[0;34m:\u001b[0m \u001b[0mv\u001b[0m \u001b[0;32mfor\u001b[0m \u001b[0mk\u001b[0m\u001b[0;34m,\u001b[0m \u001b[0mv\u001b[0m \u001b[0;32min\u001b[0m \u001b[0mindexers\u001b[0m\u001b[0;34m.\u001b[0m\u001b[0mitems\u001b[0m\u001b[0;34m(\u001b[0m\u001b[0;34m)\u001b[0m \u001b[0;32mif\u001b[0m \u001b[0mk\u001b[0m \u001b[0;32min\u001b[0m \u001b[0mvar_value\u001b[0m\u001b[0;34m.\u001b[0m\u001b[0mdims\u001b[0m\u001b[0;34m}\u001b[0m\u001b[0;34m\u001b[0m\u001b[0;34m\u001b[0m\u001b[0m\n\u001b[1;32m   1968\u001b[0m             \u001b[0;32mif\u001b[0m \u001b[0mvar_indexers\u001b[0m\u001b[0;34m:\u001b[0m\u001b[0;34m\u001b[0m\u001b[0;34m\u001b[0m\u001b[0m\n\u001b[0;32m-> 1969\u001b[0;31m                 \u001b[0mvar_value\u001b[0m \u001b[0;34m=\u001b[0m \u001b[0mvar_value\u001b[0m\u001b[0;34m.\u001b[0m\u001b[0misel\u001b[0m\u001b[0;34m(\u001b[0m\u001b[0mvar_indexers\u001b[0m\u001b[0;34m)\u001b[0m\u001b[0;34m\u001b[0m\u001b[0;34m\u001b[0m\u001b[0m\n\u001b[0m\u001b[1;32m   1970\u001b[0m                 \u001b[0;32mif\u001b[0m \u001b[0mdrop\u001b[0m \u001b[0;32mand\u001b[0m \u001b[0mvar_value\u001b[0m\u001b[0;34m.\u001b[0m\u001b[0mndim\u001b[0m \u001b[0;34m==\u001b[0m \u001b[0;36m0\u001b[0m \u001b[0;32mand\u001b[0m \u001b[0mvar_name\u001b[0m \u001b[0;32min\u001b[0m \u001b[0mcoord_names\u001b[0m\u001b[0;34m:\u001b[0m\u001b[0;34m\u001b[0m\u001b[0;34m\u001b[0m\u001b[0m\n\u001b[1;32m   1971\u001b[0m                     \u001b[0mcoord_names\u001b[0m\u001b[0;34m.\u001b[0m\u001b[0mremove\u001b[0m\u001b[0;34m(\u001b[0m\u001b[0mvar_name\u001b[0m\u001b[0;34m)\u001b[0m\u001b[0;34m\u001b[0m\u001b[0;34m\u001b[0m\u001b[0m\n",
      "\u001b[0;32m~/.conda/envs/py3_parcels/lib/python3.6/site-packages/xarray/core/variable.py\u001b[0m in \u001b[0;36misel\u001b[0;34m(self, indexers, missing_dims, **indexers_kwargs)\u001b[0m\n\u001b[1;32m   1116\u001b[0m \u001b[0;34m\u001b[0m\u001b[0m\n\u001b[1;32m   1117\u001b[0m         \u001b[0mkey\u001b[0m \u001b[0;34m=\u001b[0m \u001b[0mtuple\u001b[0m\u001b[0;34m(\u001b[0m\u001b[0mindexers\u001b[0m\u001b[0;34m.\u001b[0m\u001b[0mget\u001b[0m\u001b[0;34m(\u001b[0m\u001b[0mdim\u001b[0m\u001b[0;34m,\u001b[0m \u001b[0mslice\u001b[0m\u001b[0;34m(\u001b[0m\u001b[0;32mNone\u001b[0m\u001b[0;34m)\u001b[0m\u001b[0;34m)\u001b[0m \u001b[0;32mfor\u001b[0m \u001b[0mdim\u001b[0m \u001b[0;32min\u001b[0m \u001b[0mself\u001b[0m\u001b[0;34m.\u001b[0m\u001b[0mdims\u001b[0m\u001b[0;34m)\u001b[0m\u001b[0;34m\u001b[0m\u001b[0;34m\u001b[0m\u001b[0m\n\u001b[0;32m-> 1118\u001b[0;31m         \u001b[0;32mreturn\u001b[0m \u001b[0mself\u001b[0m\u001b[0;34m[\u001b[0m\u001b[0mkey\u001b[0m\u001b[0;34m]\u001b[0m\u001b[0;34m\u001b[0m\u001b[0;34m\u001b[0m\u001b[0m\n\u001b[0m\u001b[1;32m   1119\u001b[0m \u001b[0;34m\u001b[0m\u001b[0m\n\u001b[1;32m   1120\u001b[0m     \u001b[0;32mdef\u001b[0m \u001b[0msqueeze\u001b[0m\u001b[0;34m(\u001b[0m\u001b[0mself\u001b[0m\u001b[0;34m,\u001b[0m \u001b[0mdim\u001b[0m\u001b[0;34m=\u001b[0m\u001b[0;32mNone\u001b[0m\u001b[0;34m)\u001b[0m\u001b[0;34m:\u001b[0m\u001b[0;34m\u001b[0m\u001b[0;34m\u001b[0m\u001b[0m\n",
      "\u001b[0;32m~/.conda/envs/py3_parcels/lib/python3.6/site-packages/xarray/core/variable.py\u001b[0m in \u001b[0;36m__getitem__\u001b[0;34m(self, key)\u001b[0m\n\u001b[1;32m    764\u001b[0m         \u001b[0marray\u001b[0m\u001b[0;31m \u001b[0m\u001b[0;31m`\u001b[0m\u001b[0mx\u001b[0m\u001b[0;34m.\u001b[0m\u001b[0mvalues\u001b[0m\u001b[0;31m`\u001b[0m \u001b[0mdirectly\u001b[0m\u001b[0;34m.\u001b[0m\u001b[0;34m\u001b[0m\u001b[0;34m\u001b[0m\u001b[0m\n\u001b[1;32m    765\u001b[0m         \"\"\"\n\u001b[0;32m--> 766\u001b[0;31m         \u001b[0mdims\u001b[0m\u001b[0;34m,\u001b[0m \u001b[0mindexer\u001b[0m\u001b[0;34m,\u001b[0m \u001b[0mnew_order\u001b[0m \u001b[0;34m=\u001b[0m \u001b[0mself\u001b[0m\u001b[0;34m.\u001b[0m\u001b[0m_broadcast_indexes\u001b[0m\u001b[0;34m(\u001b[0m\u001b[0mkey\u001b[0m\u001b[0;34m)\u001b[0m\u001b[0;34m\u001b[0m\u001b[0;34m\u001b[0m\u001b[0m\n\u001b[0m\u001b[1;32m    767\u001b[0m         \u001b[0mdata\u001b[0m \u001b[0;34m=\u001b[0m \u001b[0mas_indexable\u001b[0m\u001b[0;34m(\u001b[0m\u001b[0mself\u001b[0m\u001b[0;34m.\u001b[0m\u001b[0m_data\u001b[0m\u001b[0;34m)\u001b[0m\u001b[0;34m[\u001b[0m\u001b[0mindexer\u001b[0m\u001b[0;34m]\u001b[0m\u001b[0;34m\u001b[0m\u001b[0;34m\u001b[0m\u001b[0m\n\u001b[1;32m    768\u001b[0m         \u001b[0;32mif\u001b[0m \u001b[0mnew_order\u001b[0m\u001b[0;34m:\u001b[0m\u001b[0;34m\u001b[0m\u001b[0;34m\u001b[0m\u001b[0m\n",
      "\u001b[0;32m~/.conda/envs/py3_parcels/lib/python3.6/site-packages/xarray/core/variable.py\u001b[0m in \u001b[0;36m_broadcast_indexes\u001b[0;34m(self, key)\u001b[0m\n\u001b[1;32m    605\u001b[0m             \u001b[0;32mreturn\u001b[0m \u001b[0mself\u001b[0m\u001b[0;34m.\u001b[0m\u001b[0m_broadcast_indexes_basic\u001b[0m\u001b[0;34m(\u001b[0m\u001b[0mkey\u001b[0m\u001b[0;34m)\u001b[0m\u001b[0;34m\u001b[0m\u001b[0;34m\u001b[0m\u001b[0m\n\u001b[1;32m    606\u001b[0m \u001b[0;34m\u001b[0m\u001b[0m\n\u001b[0;32m--> 607\u001b[0;31m         \u001b[0mself\u001b[0m\u001b[0;34m.\u001b[0m\u001b[0m_validate_indexers\u001b[0m\u001b[0;34m(\u001b[0m\u001b[0mkey\u001b[0m\u001b[0;34m)\u001b[0m\u001b[0;34m\u001b[0m\u001b[0;34m\u001b[0m\u001b[0m\n\u001b[0m\u001b[1;32m    608\u001b[0m         \u001b[0;31m# Detect it can be mapped as an outer indexer\u001b[0m\u001b[0;34m\u001b[0m\u001b[0;34m\u001b[0m\u001b[0;34m\u001b[0m\u001b[0m\n\u001b[1;32m    609\u001b[0m         \u001b[0;31m# If all key is unlabeled, or\u001b[0m\u001b[0;34m\u001b[0m\u001b[0;34m\u001b[0m\u001b[0;34m\u001b[0m\u001b[0m\n",
      "\u001b[0;32m~/.conda/envs/py3_parcels/lib/python3.6/site-packages/xarray/core/variable.py\u001b[0m in \u001b[0;36m_validate_indexers\u001b[0;34m(self, key)\u001b[0m\n\u001b[1;32m    641\u001b[0m                 \u001b[0;32mif\u001b[0m \u001b[0;32mnot\u001b[0m \u001b[0misinstance\u001b[0m\u001b[0;34m(\u001b[0m\u001b[0mk\u001b[0m\u001b[0;34m,\u001b[0m \u001b[0mVariable\u001b[0m\u001b[0;34m)\u001b[0m\u001b[0;34m:\u001b[0m\u001b[0;34m\u001b[0m\u001b[0;34m\u001b[0m\u001b[0m\n\u001b[1;32m    642\u001b[0m                     \u001b[0mk\u001b[0m \u001b[0;34m=\u001b[0m \u001b[0mnp\u001b[0m\u001b[0;34m.\u001b[0m\u001b[0masarray\u001b[0m\u001b[0;34m(\u001b[0m\u001b[0mk\u001b[0m\u001b[0;34m)\u001b[0m\u001b[0;34m\u001b[0m\u001b[0;34m\u001b[0m\u001b[0m\n\u001b[0;32m--> 643\u001b[0;31m                     \u001b[0;32mif\u001b[0m \u001b[0mk\u001b[0m\u001b[0;34m.\u001b[0m\u001b[0mndim\u001b[0m \u001b[0;34m>\u001b[0m \u001b[0;36m1\u001b[0m\u001b[0;34m:\u001b[0m\u001b[0;34m\u001b[0m\u001b[0;34m\u001b[0m\u001b[0m\n\u001b[0m\u001b[1;32m    644\u001b[0m                         raise IndexError(\n\u001b[1;32m    645\u001b[0m                             \u001b[0;34m\"Unlabeled multi-dimensional array cannot be \"\u001b[0m\u001b[0;34m\u001b[0m\u001b[0;34m\u001b[0m\u001b[0m\n",
      "\u001b[0;31mKeyboardInterrupt\u001b[0m: "
     ]
    }
   ],
   "source": [
    "split_ds_0 = list(ds_0.groupby('r_pl'))\n",
    "split_ds_1 = list(ds_1.groupby('r_pl'))\n",
    "split_ds_2 = list(ds_2.groupby('r_pl'))"
   ]
  },
  {
   "cell_type": "markdown",
   "metadata": {},
   "source": [
    "#### Colormaps"
   ]
  },
  {
   "cell_type": "code",
   "execution_count": null,
   "metadata": {},
   "outputs": [],
   "source": [
    "# mort_cmap = copy(plt.get_cmap('RdPu'))\n",
    "mort_cmap = ['#FF7917','#14FF37', '#732FFF']\n",
    "\n",
    "r_pl_cmap = ['#7a0177', '#c51b8a', '#f768a1', '#fbb4b9']"
   ]
  },
  {
   "cell_type": "code",
   "execution_count": null,
   "metadata": {},
   "outputs": [],
   "source": [
    "number_of_trajectories_to_plot = 200\n",
    "n_plt = number_of_trajectories_to_plot\n",
    "f_plt = int(np.round(len(ds['traj'])/n_plt))\n",
    "print('plotting '+str(n_plt)+' of '+str(len(ds['traj']))+' trajectories')\n",
    "print('plotting every '+str(f_plt)+' particles')"
   ]
  },
  {
   "cell_type": "code",
   "execution_count": null,
   "metadata": {},
   "outputs": [],
   "source": [
    "fig, (ax1, ax2, ax3) = plt.subplots(1,3,figsize=(18,10), constrained_layout=True)\n",
    "\n",
    "for i, r in enumerate(split_ds_0):\n",
    "    ax1.plot(r[1]['time'].T[:,:25], r[1]['z'].T[:,:25], marker='o', markersize=6 ,c=r_pl_cmap[i], alpha=0.2)\n",
    "ax1.set_facecolor('dimgray')\n",
    "ax1.set_ylim(10,0)\n",
    "ax1.set_title('Mortality rate = '+str(mortality[0]) + ' $d^{-1}$')\n",
    "ax1.set_ylabel('Depth [m]')\n",
    "ax1.set_xlabel('Time')\n",
    "ax1.tick_params(axis='x', rotation=45)\n",
    "\n",
    "for i, r in enumerate(split_ds_1):\n",
    "    ax2.plot(r[1]['time'].T[:,:25], r[1]['z'].T[:,:25], marker='o', markersize=6 , c=r_pl_cmap[i], alpha=0.2)\n",
    "ax2.set_facecolor('dimgray')\n",
    "ax2.set_ylim(10,0)\n",
    "ax2.set_title('Mortality rate = '+str(mortality[1]) + ' $d^{-1}$')\n",
    "ax2.set_ylabel('Depth [m]')\n",
    "ax2.set_xlabel('Time')\n",
    "ax2.tick_params(axis='x', rotation=45)\n",
    "\n",
    "for i, r in enumerate(split_ds_2):\n",
    "    ax3.plot(r[1]['time'].T[:,:25], r[1]['z'].T[:,:25], marker='o', markersize=6 ,c=r_pl_cmap[i], alpha=0.2)\n",
    "ax3.set_facecolor('dimgray')\n",
    "ax3.set_ylim(10,0)\n",
    "ax3.set_title('Mortality rate = '+str(mortality[2]) + ' $d^{-1}$')\n",
    "ax3.set_ylabel('Depth [m]')\n",
    "ax3.set_xlabel('Time')\n",
    "ax3.tick_params(axis='x', rotation=45)\n",
    "\n",
    "custom_lines = [Line2D([0], [0], color=r_pl_cmap[0], lw=4),\n",
    "                Line2D([0], [0], color=r_pl_cmap[1], lw=4),\n",
    "                Line2D([0], [0], color=r_pl_cmap[2], lw=4),\n",
    "                Line2D([0], [0], color=r_pl_cmap[3], lw=4)]\n",
    "\n",
    "ax3.legend(custom_lines, [\"{:.1e}\".format(split_ds_0[0][0]), \"{:.1e}\".format(split_ds_0[1][0]), \"{:.1e}\".format(split_ds_0[2][0]), \"{:.1e}\".format(split_ds_0[3][0])], title='Plastic Radius', bbox_to_anchor=(1.05, 1), loc='upper left')\n",
    "plt.show()"
   ]
  },
  {
   "cell_type": "code",
   "execution_count": null,
   "metadata": {},
   "outputs": [],
   "source": [
    "fig, (ax1, ax2, ax3) = plt.subplots(1,3,figsize=(15,5), constrained_layout=True)\n",
    "fig.suptitle('$\\\\Delta \\\\rho$', fontsize=22)\n",
    "\n",
    "for i, r in enumerate(split_ds_0):\n",
    "    ax1.plot(r[1]['time'].T[:,:n_plt], r[1]['delta_rho'].T[:,:n_plt], marker='o', markersize=1,c=r_pl_cmap[i], alpha = 0.1)\n",
    "ax1.set_facecolor('lightgray')\n",
    "ax1.grid(b=True, axis='y')\n",
    "ax1.set_title('Mortality rate = '+str(mortality[0]))\n",
    "ax1.set_ylabel('$\\\\Delta \\\\rho$')\n",
    "ax1.set_xlabel('Time')\n",
    "ax1.tick_params(axis='x', rotation=45)\n",
    "ax1.set_ylim(-0.5,0.5)\n",
    "\n",
    "for i, r in enumerate(split_ds_1):\n",
    "    ax2.plot(r[1]['time'].T[:,:n_plt], r[1]['delta_rho'].T[:,:n_plt], marker='o', markersize=1, c=r_pl_cmap[i], alpha = 0.1)\n",
    "ax2.set_facecolor('lightgray')\n",
    "ax2.grid(b=True, axis='y')\n",
    "ax2.set_title('Mortality rate = '+str(mortality[1]))\n",
    "ax2.set_ylabel('$\\\\Delta \\\\rho$')\n",
    "ax2.set_xlabel('Time')\n",
    "ax2.tick_params(axis='x', rotation=45)\n",
    "ax2.set_ylim(-0.5,0.5)\n",
    "\n",
    "for i, r in enumerate(split_ds_2):\n",
    "    ax3.plot(r[1]['time'].T[:,:n_plt], r[1]['delta_rho'].T[:,:n_plt], marker='o', markersize=1,c=r_pl_cmap[i], alpha = 0.1)\n",
    "ax3.set_facecolor('lightgray')\n",
    "ax3.grid(b=True, axis='y')\n",
    "ax3.set_title('Mortality rate = '+str(mortality[2]))\n",
    "ax3.set_ylabel('$\\\\Delta \\\\rho$')\n",
    "ax3.set_xlabel('Time')\n",
    "ax3.tick_params(axis='x', rotation=45)\n",
    "ax3.set_ylim(-0.5,0.5)\n",
    "\n",
    "custom_lines = [Line2D([0], [0], color=r_pl_cmap[0], lw=4),\n",
    "                Line2D([0], [0], color=r_pl_cmap[1], lw=4),\n",
    "                Line2D([0], [0], color=r_pl_cmap[2], lw=4),\n",
    "                Line2D([0], [0], color=r_pl_cmap[3], lw=4)]\n",
    "\n",
    "ax3.legend(custom_lines, [\"{:.1e}\".format(split_ds_0[0][0]), \"{:.1e}\".format(split_ds_0[1][0]), \"{:.1e}\".format(split_ds_0[2][0]), \"{:.1e}\".format(split_ds_0[3][0])], title='Plastic Radius', bbox_to_anchor=(1.05, 1), loc='upper left')\n",
    "plt.show()"
   ]
  },
  {
   "cell_type": "code",
   "execution_count": null,
   "metadata": {},
   "outputs": [],
   "source": [
    "fig, (ax1, ax2, ax3) = plt.subplots(1,3,figsize=(15,5), constrained_layout=True)\n",
    "fig.suptitle('Attached algae', fontsize=22)\n",
    "\n",
    "for i, r in enumerate(split_ds_0):\n",
    "    ax1.plot(r[1]['time'].T[:,:100], r[1]['a'].T[:,:100], marker='o', markersize=1,c=r_pl_cmap[i], alpha=1)\n",
    "ax1.set_facecolor('lightgray')\n",
    "ax1.grid(b=True, axis='y')\n",
    "ax1.set_title('Mortality rate = '+str(mortality[0]) + ' $d^{-1}$')\n",
    "ax1.set_ylabel('Attached Algae [no. m-2]')\n",
    "ax1.set_xlabel('Time')\n",
    "ax1.tick_params(axis='x', rotation=45)\n",
    "ax1.set_ylim(-1e3,4e11)\n",
    "\n",
    "for i, r in enumerate(split_ds_1):\n",
    "    ax2.plot(r[1]['time'].T[:,:100], r[1]['a'].T[:,:100], marker='o', markersize=1, c=r_pl_cmap[i], alpha=1)\n",
    "ax2.set_facecolor('lightgray')\n",
    "ax2.grid(b=True, axis='y')\n",
    "ax2.set_title('Mortality rate = '+str(mortality[1]) + ' $d^{-1}$')\n",
    "ax2.set_ylabel('Attached Algae [no. m-2]')\n",
    "ax2.set_xlabel('Time')\n",
    "ax2.tick_params(axis='x', rotation=45)\n",
    "ax2.set_ylim(-1e3,4e11)\n",
    "\n",
    "for i, r in enumerate(split_ds_2):\n",
    "    ax3.plot(r[1]['time'].T[:,:100], r[1]['a'].T[:,:100], marker='o', markersize=1,c=r_pl_cmap[i], alpha=1)\n",
    "ax3.set_facecolor('lightgray')\n",
    "ax3.grid(b=True, axis='y')\n",
    "ax3.set_title('Mortality rate = '+str(mortality[2]) + ' $d^{-1}$')\n",
    "ax3.set_ylabel('Attached Algae [no. m-2]')\n",
    "ax3.set_xlabel('Time')\n",
    "ax3.tick_params(axis='x', rotation=45)\n",
    "ax3.set_ylim(-1e3,4e11)\n",
    "\n",
    "custom_lines = [Line2D([0], [0], color=r_pl_cmap[0], lw=4),\n",
    "                Line2D([0], [0], color=r_pl_cmap[1], lw=4),\n",
    "                Line2D([0], [0], color=r_pl_cmap[2], lw=4),\n",
    "                Line2D([0], [0], color=r_pl_cmap[3], lw=4)]\n",
    "\n",
    "ax3.legend(custom_lines, [\"{:.1e}\".format(split_ds_0[0][0]), \"{:.1e}\".format(split_ds_0[1][0]), \"{:.1e}\".format(split_ds_0[2][0]), \"{:.1e}\".format(split_ds_0[3][0])], title='Plastic Radius', bbox_to_anchor=(1.05, 1), loc='upper left')\n",
    "plt.show()"
   ]
  },
  {
   "cell_type": "code",
   "execution_count": null,
   "metadata": {},
   "outputs": [],
   "source": [
    "fig, (ax1, ax2, ax3) = plt.subplots(1,3,figsize=(15,5), constrained_layout=True)\n",
    "fig.suptitle('Total Radius', fontsize=22)\n",
    "\n",
    "for i, r in enumerate(split_ds_0):\n",
    "    ax1.plot(r[1]['time'].T, r[1]['r_tot'].T, marker='o', markersize=1,c=r_pl_cmap[i], alpha=0.2)\n",
    "ax1.set_facecolor('lightgray')\n",
    "ax1.grid(b=True, axis='y')\n",
    "ax1.set_title('Mortality rate = '+str(mortality[0]) + ' $d^{-1}$')\n",
    "ax1.set_ylabel('Total Radius [m]')\n",
    "ax1.set_xlabel('Time')\n",
    "ax1.tick_params(axis='x', rotation=45)\n",
    "ax1.set_ylim(-1e-3,1e-2)\n",
    "\n",
    "for i, r in enumerate(split_ds_1):\n",
    "    ax2.plot(r[1]['time'].T, r[1]['r_tot'].T, marker='o', markersize=1, c=r_pl_cmap[i], alpha=0.2)\n",
    "ax2.set_facecolor('lightgray')\n",
    "ax2.grid(b=True, axis='y')\n",
    "ax2.set_title('Mortality rate = '+str(mortality[1]) + ' $d^{-1}$')\n",
    "ax2.set_ylabel('Total Radius [m]')\n",
    "ax2.set_xlabel('Time')\n",
    "ax2.tick_params(axis='x', rotation=45)\n",
    "ax2.set_ylim(-1e-3,1e-2)\n",
    "\n",
    "for i, r in enumerate(split_ds_2):\n",
    "    ax3.plot(r[1]['time'].T, r[1]['r_tot'].T, marker='o', markersize=1,c=r_pl_cmap[i], alpha=0.2)\n",
    "ax3.set_facecolor('lightgray')\n",
    "ax3.grid(b=True, axis='y')\n",
    "ax3.set_title('Mortality rate = '+str(mortality[2]) + ' $d^{-1}$')\n",
    "ax3.set_ylabel('Total Radius [m]')\n",
    "ax3.set_xlabel('Time')\n",
    "ax3.tick_params(axis='x', rotation=45)\n",
    "ax3.set_ylim(-1e-3,1e-2)\n",
    "\n",
    "custom_lines = [Line2D([0], [0], color=r_pl_cmap[0], lw=4),\n",
    "                Line2D([0], [0], color=r_pl_cmap[1], lw=4),\n",
    "                Line2D([0], [0], color=r_pl_cmap[2], lw=4),\n",
    "                Line2D([0], [0], color=r_pl_cmap[3], lw=4)]\n",
    "\n",
    "ax3.legend(custom_lines, [\"{:.1e}\".format(split_ds_0[0][0]), \"{:.1e}\".format(split_ds_0[1][0]), \"{:.1e}\".format(split_ds_0[2][0]), \"{:.1e}\".format(split_ds_0[3][0])], title='Plastic Radius', bbox_to_anchor=(1.05, 1), loc='upper left')\n",
    "plt.show()"
   ]
  },
  {
   "cell_type": "code",
   "execution_count": null,
   "metadata": {},
   "outputs": [],
   "source": [
    "fig, (ax1, ax2, ax3) = plt.subplots(1,3,figsize=(15,5), constrained_layout=True)\n",
    "fig.suptitle('Biofilm thickness', fontsize=22)\n",
    "\n",
    "for i, r in enumerate(split_ds_0):\n",
    "    ax1.plot(r[1]['time'].T[:,:n_plt], r[1]['r_tot'].T[:,:n_plt] - r[1]['r_pl'].T[:n_plt], marker='o', markersize=1,c=r_pl_cmap[i], alpha=0.2)\n",
    "ax1.set_facecolor('lightgray')\n",
    "ax1.grid(b=True, axis='y')\n",
    "ax1.set_title('Mortality rate = '+str(mortality[0]) + ' $d^{-1}$')\n",
    "ax1.set_ylabel('Total Radius [m]')\n",
    "ax1.set_xlabel('Time')\n",
    "ax1.tick_params(axis='x', rotation=45)\n",
    "# ax1.set_ylim(-1e-3,1e-2)\n",
    "\n",
    "for i, r in enumerate(split_ds_1):\n",
    "    ax2.plot(r[1]['time'].T[:,:n_plt], r[1]['r_tot'].T[:,:n_plt] - r[1]['r_pl'].T[:n_plt], marker='o', markersize=1, c=r_pl_cmap[i], alpha=0.2)\n",
    "ax2.set_facecolor('lightgray')\n",
    "ax2.grid(b=True, axis='y')\n",
    "ax2.set_title('Mortality rate = '+str(mortality[1]) + ' $d^{-1}$')\n",
    "ax2.set_ylabel('Total Radius [m]')\n",
    "ax2.set_xlabel('Time')\n",
    "ax2.tick_params(axis='x', rotation=45)\n",
    "# ax2.set_ylim(-1e-3,1e-2)\n",
    "\n",
    "for i, r in enumerate(split_ds_2):\n",
    "    ax3.plot(r[1]['time'].T[:,:n_plt], r[1]['r_tot'].T[:,:n_plt] - r[1]['r_pl'].T[:n_plt], marker='o', markersize=1,c=r_pl_cmap[i], alpha=0.2)\n",
    "ax3.set_facecolor('lightgray')\n",
    "ax3.grid(b=True, axis='y')\n",
    "ax3.set_title('Mortality rate = '+str(mortality[2]) + ' $d^{-1}$')\n",
    "ax3.set_ylabel('Total Radius [m]')\n",
    "ax3.set_xlabel('Time')\n",
    "ax3.tick_params(axis='x', rotation=45)\n",
    "# ax3.set_ylim(-1e-4,1e-2)\n",
    "\n",
    "custom_lines = [Line2D([0], [0], color=r_pl_cmap[0], lw=4),\n",
    "                Line2D([0], [0], color=r_pl_cmap[1], lw=4),\n",
    "                Line2D([0], [0], color=r_pl_cmap[2], lw=4),\n",
    "                Line2D([0], [0], color=r_pl_cmap[3], lw=4)]\n",
    "\n",
    "ax3.legend(custom_lines, [\"{:.1e}\".format(split_ds_0[0][0]), \"{:.1e}\".format(split_ds_0[1][0]), \"{:.1e}\".format(split_ds_0[2][0]), \"{:.1e}\".format(split_ds_0[3][0])], title='Plastic Radius', bbox_to_anchor=(1.05, 1), loc='upper left')\n",
    "plt.show()"
   ]
  },
  {
   "cell_type": "code",
   "execution_count": null,
   "metadata": {},
   "outputs": [],
   "source": []
  }
 ],
 "metadata": {
  "kernelspec": {
   "display_name": "Python 3",
   "language": "python",
   "name": "python3"
  },
  "language_info": {
   "codemirror_mode": {
    "name": "ipython",
    "version": 3
   },
   "file_extension": ".py",
   "mimetype": "text/x-python",
   "name": "python",
   "nbconvert_exporter": "python",
   "pygments_lexer": "ipython3",
   "version": "3.6.12"
  }
 },
 "nbformat": 4,
 "nbformat_minor": 4
}
